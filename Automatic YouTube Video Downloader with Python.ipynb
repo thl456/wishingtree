{
 "cells": [
  {
   "cell_type": "code",
   "execution_count": 13,
   "metadata": {},
   "outputs": [
    {
     "name": "stdout",
     "output_type": "stream",
     "text": [
      "Youtube Video URLhttps://www.youtube.com/watch?v=r2foQEjep4Q\n",
      "Video Downloaded https://www.youtube.com/watch?v=r2foQEjep4Q\n"
     ]
    }
   ],
   "source": [
    "from pytube import YouTube\n",
    "\n",
    "link = input('Youtube Video URL')\n",
    "video_download = YouTube(link)\n",
    "video_download.streams.filter(res=\"720p\").first().download()\n",
    "print('Video Downloaded', link)"
   ]
  }
 ],
 "metadata": {
  "kernelspec": {
   "display_name": "Python 3",
   "language": "python",
   "name": "python3"
  },
  "language_info": {
   "codemirror_mode": {
    "name": "ipython",
    "version": 3
   },
   "file_extension": ".py",
   "mimetype": "text/x-python",
   "name": "python",
   "nbconvert_exporter": "python",
   "pygments_lexer": "ipython3",
   "version": "3.8.3"
  }
 },
 "nbformat": 4,
 "nbformat_minor": 4
}
